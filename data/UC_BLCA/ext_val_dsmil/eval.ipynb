{
 "cells": [
  {
   "cell_type": "code",
   "execution_count": 2,
   "id": "012cb3ea",
   "metadata": {
    "ExecuteTime": {
     "end_time": "2024-01-18T10:48:46.408051Z",
     "start_time": "2024-01-18T10:48:46.397604Z"
    }
   },
   "outputs": [],
   "source": [
    "def metrics_recording(description):\n",
    "    with open(f'{description}/metrics.log') as f:\n",
    "\n",
    "#     pattern = re.compile(r'lr:(.+),weight:([\\d\\.]+),fold:(\\d+),metric:(\\w+),avg_score: ([\\d\\.]+),auc for TMB-H: ([\\d\\.]+),f1:([\\d\\.]+),tn_fp_fn_tp:\\((\\d+), (\\d+), (\\d+), (\\d+)\\)')\n",
    "        pattern = re.compile(r'lr:(.+),weight:(.+),fold:(.+),metric:(.+),avg_score: (.+),auc for TMB-H: ([\\d\\.]+),f1:([\\d\\.]+),tn_fp_fn_tp:\\((\\d+), (\\d+), (\\d+), (\\d+)\\)')\n",
    "        log = f.read()\n",
    "        data = []\n",
    "        for line in log.split('\\n'):\n",
    "            match = pattern.search(line)\n",
    "    #         print(match.group(9))\n",
    "            if match:\n",
    "                data.append([float(match.group(1)), float(match.group(2)), int(match.group(3)), match.group(4), \n",
    "                            float(match.group(5)), float(match.group(6)), float(match.group(7)), \n",
    "                            int(match.group(8)), int(match.group(9)), int(match.group(10)), int(match.group(11))])\n",
    "\n",
    "        df = pd.DataFrame(data, columns=['lr', 'weight', 'fold', 'metric', 'avg_score', 'auc', 'f1', 'tn', 'fp', 'fn', 'tp'])\n",
    "        return df\n",
    "def metrics_recording_with_dropout(description):\n",
    "    with open(f'{description}/metrics.log') as f:\n",
    "\n",
    "#     pattern = re.compile(r'lr:(.+),weight:([\\d\\.]+),fold:(\\d+),metric:(\\w+),avg_score: ([\\d\\.]+),auc for TMB-H: ([\\d\\.]+),f1:([\\d\\.]+),tn_fp_fn_tp:\\((\\d+), (\\d+), (\\d+), (\\d+)\\)')\n",
    "        pattern = re.compile(r'lr:(.+),weight:(.+),dropout_patch:(.+),dropout_node:(.+),fold:(.+),metric:(.+),avg_score: (.+),auc for TMB-H: ([\\d\\.]+),f1:([\\d\\.]+),tn_fp_fn_tp:\\((\\d+), (\\d+), (\\d+), (\\d+)\\)')\n",
    "        log = f.read()\n",
    "        data = []\n",
    "        for line in log.split('\\n'):\n",
    "            match = pattern.search(line)\n",
    "    #         print(match.group(9))\n",
    "            if match:\n",
    "                data.append([float(match.group(1)), float(match.group(2)), float(match.group(3)), float(match.group(4)),\n",
    "                             int(match.group(5)), match.group(6), \n",
    "                            float(match.group(7)), float(match.group(8)), float(match.group(9)), \n",
    "                            int(match.group(10)), int(match.group(11)), int(match.group(12)), int(match.group(13))])\n",
    "\n",
    "        df = pd.DataFrame(data, columns=['lr', 'weight','dropout_patch','dropout_node', 'fold', 'metric', 'avg_score', 'auc', 'f1', 'tn', 'fp', 'fn', 'tp'])\n",
    "        return df\n",
    "    \n",
    "def show_topK_metrics(df,k,metrics):\n",
    "    top_idx = df.sort_values(f'{metrics}', ascending=False).head(k).index\n",
    "    result = df.loc[top_idx,:]\n",
    "    print(df[f'{metrics}'].describe())\n",
    "    return result\n",
    "\n",
    "def eval_folder(folder,mode='norm'):\n",
    "    if mode == 'norm':\n",
    "        df = metrics_recording(folder)\n",
    "        df = df[~df.duplicated()]\n",
    "    elif mode == 'dropout':\n",
    "        df = metrics_recording_with_dropout(folder)\n",
    "        df = df[~df.duplicated()]\n",
    "    print(show_topK_metrics(df,10,'auc'))\n",
    "    print(show_topK_metrics(df,10,'f1'))"
   ]
  }
 ],
 "metadata": {
  "kernelspec": {
   "display_name": "Python [conda env:.conda-ds]",
   "language": "python",
   "name": "conda-env-.conda-ds-py"
  },
  "language_info": {
   "codemirror_mode": {
    "name": "ipython",
    "version": 3
   },
   "file_extension": ".py",
   "mimetype": "text/x-python",
   "name": "python",
   "nbconvert_exporter": "python",
   "pygments_lexer": "ipython3",
   "version": "3.8.16"
  },
  "toc": {
   "base_numbering": 1,
   "nav_menu": {},
   "number_sections": true,
   "sideBar": true,
   "skip_h1_title": false,
   "title_cell": "Table of Contents",
   "title_sidebar": "Contents",
   "toc_cell": false,
   "toc_position": {},
   "toc_section_display": true,
   "toc_window_display": false
  }
 },
 "nbformat": 4,
 "nbformat_minor": 5
}
