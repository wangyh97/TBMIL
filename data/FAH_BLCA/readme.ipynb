{
 "cells": [
  {
   "cell_type": "code",
   "execution_count": 1,
   "id": "06ed302b",
   "metadata": {
    "ExecuteTime": {
     "end_time": "2024-05-08T08:01:12.560997Z",
     "start_time": "2024-05-08T08:01:08.152639Z"
    }
   },
   "outputs": [
    {
     "name": "stdout",
     "output_type": "stream",
     "text": [
      "The history saving thread hit an unexpected error (DatabaseError('database disk image is malformed')).History will not be written to the database.\n"
     ]
    }
   ],
   "source": [
    "import pickle\n",
    "\n",
    "from pathlib import Path\n",
    "import h5py\n",
    "import pandas as pd\n",
    "import numpy as np"
   ]
  },
  {
   "cell_type": "code",
   "execution_count": 2,
   "id": "da7c2026",
   "metadata": {
    "ExecuteTime": {
     "end_time": "2024-01-11T08:28:22.026221Z",
     "start_time": "2024-01-11T08:28:22.020222Z"
    }
   },
   "outputs": [],
   "source": [
    "root_path = Path.cwd()"
   ]
  },
  {
   "cell_type": "code",
   "execution_count": 3,
   "id": "7b76054b",
   "metadata": {
    "ExecuteTime": {
     "end_time": "2024-01-11T08:28:22.280992Z",
     "start_time": "2024-01-11T08:28:22.029436Z"
    }
   },
   "outputs": [
    {
     "data": {
      "text/plain": [
       "PosixPath('/GPUFS/sysu_jhluo_1/wangyh/data/FAH_BLCA')"
      ]
     },
     "execution_count": 3,
     "metadata": {},
     "output_type": "execute_result"
    }
   ],
   "source": [
    "root_path"
   ]
  },
  {
   "cell_type": "markdown",
   "id": "2b1d78c4",
   "metadata": {},
   "source": [
    "# FAH_BLCA\n",
    "\n",
    "主要包含sldies，分批上传，每个批次的slides信息放在`./misc_files/batch{}_annotated_slides.txt`中"
   ]
  },
  {
   "cell_type": "code",
   "execution_count": 18,
   "id": "26847970",
   "metadata": {
    "ExecuteTime": {
     "end_time": "2024-01-06T03:59:25.398896Z",
     "start_time": "2024-01-06T03:59:25.386242Z"
    },
    "scrolled": true
   },
   "outputs": [],
   "source": [
    "with open('./misc_files/batch1_annotated_slides.txt','r') as f:\n",
    "    slide_info = {\n",
    "        'patho_id':[],\n",
    "        'index_id':[],\n",
    "        'seq_id':[]\n",
    "    }\n",
    "    slide_paths = [i[:-1] for i in f.readlines()]  # txt文件读取的每一行行尾有一个\\n，选择【：-1】以消除\n",
    "    for i in slide_paths:\n",
    "        name = Path(i).stem\n",
    "        slide_info['patho_id'].append(name.split('_')[0])\n",
    "        slide_info['index_id'].append(name.split('_')[1])\n",
    "        slide_info['seq_id'].append(name.split('_')[2])"
   ]
  },
  {
   "cell_type": "code",
   "execution_count": 24,
   "id": "a0edd2b1",
   "metadata": {
    "ExecuteTime": {
     "end_time": "2024-01-06T04:01:06.836272Z",
     "start_time": "2024-01-06T04:01:06.824798Z"
    }
   },
   "outputs": [
    {
     "data": {
      "text/plain": [
       "array(['P20022419', 'E23005966', 'E23005565', 'P21012824', 'P20021896',\n",
       "       'P21015641', 'P20031339', 'P21023171', 'E23005116', 'E23002390',\n",
       "       'P21026543', 'P21030154', 'P21034780', 'P22016193', 'E23002418',\n",
       "       'P20022800', 'E23001990', 'E23004072', 'P20021433', 'P21026054',\n",
       "       'E23004093', 'P21014350', 'P21037214', 'E23001158', 'P22002307',\n",
       "       'P21014340', 'P20019954', 'E23004492', 'P20031010', 'E23006411',\n",
       "       'P21009448', 'P21020377', 'P21029070', 'P21010999', 'E23002213',\n",
       "       'P21019701'], dtype=object)"
      ]
     },
     "execution_count": 24,
     "metadata": {},
     "output_type": "execute_result"
    }
   ],
   "source": [
    "df = pd.DataFrame(slide_info)\n",
    "df['patho_id'].unique()"
   ]
  },
  {
   "cell_type": "code",
   "execution_count": 5,
   "id": "ebf33a80",
   "metadata": {},
   "outputs": [
    {
     "data": {
      "text/plain": [
       "14"
      ]
     },
     "execution_count": 5,
     "metadata": {},
     "output_type": "execute_result"
    }
   ],
   "source": [
    "high_count = 0\n",
    "for i in remove_abandon['TMB']:\n",
    "    if i>=10:\n",
    "        high_count += 1\n",
    "high_count"
   ]
  },
  {
   "cell_type": "code",
   "execution_count": 7,
   "id": "d1148de2",
   "metadata": {
    "ExecuteTime": {
     "end_time": "2024-05-08T08:08:47.661410Z",
     "start_time": "2024-05-08T08:08:47.633905Z"
    },
    "scrolled": false
   },
   "outputs": [
    {
     "name": "stderr",
     "output_type": "stream",
     "text": [
      "/tmp/ipykernel_3696/2271233016.py:3: SettingWithCopyWarning: \n",
      "A value is trying to be set on a copy of a slice from a DataFrame.\n",
      "Try using .loc[row_indexer,col_indexer] = value instead\n",
      "\n",
      "See the caveats in the documentation: https://pandas.pydata.org/pandas-docs/stable/user_guide/indexing.html#returning-a-view-versus-a-copy\n",
      "  remove_abandon['TMB_status'] = remove_abandon.apply(lambda row: 'H' if row['TMB'] > 10 else 'L', axis=1)\n"
     ]
    }
   ],
   "source": [
    "external_val_df = pd.read_csv('./sequencing_information/seq_patho_comment.csv')\n",
    "remove_abandon = external_val_df[external_val_df['comment'] != 'abandon']\n",
    "remove_abandon['TMB_status'] = remove_abandon.apply(lambda row: 'H' if row['TMB'] > 10 else 'L', axis=1)"
   ]
  },
  {
   "cell_type": "code",
   "execution_count": 8,
   "id": "0ca43d65",
   "metadata": {
    "ExecuteTime": {
     "end_time": "2024-05-08T08:08:53.463470Z",
     "start_time": "2024-05-08T08:08:53.432350Z"
    }
   },
   "outputs": [
    {
     "data": {
      "text/html": [
       "<div>\n",
       "<style scoped>\n",
       "    .dataframe tbody tr th:only-of-type {\n",
       "        vertical-align: middle;\n",
       "    }\n",
       "\n",
       "    .dataframe tbody tr th {\n",
       "        vertical-align: top;\n",
       "    }\n",
       "\n",
       "    .dataframe thead th {\n",
       "        text-align: right;\n",
       "    }\n",
       "</style>\n",
       "<table border=\"1\" class=\"dataframe\">\n",
       "  <thead>\n",
       "    <tr style=\"text-align: right;\">\n",
       "      <th></th>\n",
       "      <th>Sample-Pair</th>\n",
       "      <th>TMB</th>\n",
       "      <th>MSIsensor(&gt;3.5)</th>\n",
       "      <th>comment</th>\n",
       "      <th>住院号</th>\n",
       "      <th>病理编号</th>\n",
       "      <th>病理报告结果</th>\n",
       "      <th>病理诊断</th>\n",
       "      <th>TMB_status</th>\n",
       "    </tr>\n",
       "  </thead>\n",
       "  <tbody>\n",
       "    <tr>\n",
       "      <th>9</th>\n",
       "      <td>1374</td>\n",
       "      <td>85.13</td>\n",
       "      <td>MSI-H(12.41)</td>\n",
       "      <td>不成对，abandon</td>\n",
       "      <td>30685404</td>\n",
       "      <td>P21018637</td>\n",
       "      <td>【病理报告】\\n（膀胱、前列腺大体）送检膀胱黏膜局部披覆上皮细胞乳头状增生，细胞核大深染，可...</td>\n",
       "      <td>浸润性尿路上皮癌</td>\n",
       "      <td>H</td>\n",
       "    </tr>\n",
       "    <tr>\n",
       "      <th>10</th>\n",
       "      <td>1037</td>\n",
       "      <td>51.38</td>\n",
       "      <td>MSI-H(13.71)</td>\n",
       "      <td>不成对，abandon</td>\n",
       "      <td>1382172</td>\n",
       "      <td>P20019954</td>\n",
       "      <td>【病理报告】\\n膀胱高级别浸润性尿路上皮乳头状癌，浸润至粘膜下层，可见脉管内癌栓。 \\n.\\...</td>\n",
       "      <td>膀胱尿路上皮癌(高级别浸润性)</td>\n",
       "      <td>H</td>\n",
       "    </tr>\n",
       "    <tr>\n",
       "      <th>11</th>\n",
       "      <td>1325</td>\n",
       "      <td>0.05</td>\n",
       "      <td>Non-MSI-H(0.00)</td>\n",
       "      <td>体突变过少，无突变特征图</td>\n",
       "      <td>1435318</td>\n",
       "      <td>P21012824</td>\n",
       "      <td>【病理报告】\\n 1.（下腔静脉旁淋巴结）淋巴结转移癌（5/5），纤维脂肪组织内可见癌细胞浸...</td>\n",
       "      <td>浸润性高级别尿路上皮癌</td>\n",
       "      <td>L</td>\n",
       "    </tr>\n",
       "    <tr>\n",
       "      <th>12</th>\n",
       "      <td>1334</td>\n",
       "      <td>0.02</td>\n",
       "      <td>Non-MSI-H(0.00)</td>\n",
       "      <td>体突变过少，无突变特征图</td>\n",
       "      <td>1437228</td>\n",
       "      <td>P21014340</td>\n",
       "      <td>【病理报告】\\n 1.膀胱高级别浸润性尿路上皮癌，伴局灶鳞状上皮分化，浸润至膀胱壁全层，侵犯...</td>\n",
       "      <td>膀胱高级别浸润性尿路上皮癌</td>\n",
       "      <td>L</td>\n",
       "    </tr>\n",
       "    <tr>\n",
       "      <th>13</th>\n",
       "      <td>1886</td>\n",
       "      <td>1.48</td>\n",
       "      <td>Non-MSI-H(0.02)</td>\n",
       "      <td>NaN</td>\n",
       "      <td>30971565</td>\n",
       "      <td>E23002418</td>\n",
       "      <td>【病理报告】\\n 1.（右侧髂外血管旁淋巴结）淋巴结未见癌（0/12），局灶可见钙化。\\n2...</td>\n",
       "      <td>低级别乳头状尿路上皮癌，部分呈高级别乳头状尿路上皮癌</td>\n",
       "      <td>L</td>\n",
       "    </tr>\n",
       "    <tr>\n",
       "      <th>14</th>\n",
       "      <td>1438</td>\n",
       "      <td>0.86</td>\n",
       "      <td>Non-MSI-H(0.02)</td>\n",
       "      <td>NaN</td>\n",
       "      <td>30703231</td>\n",
       "      <td>P21023171</td>\n",
       "      <td>【病理报告】\\n 1.（膀胱左侧壁）膀胱高级别浸润性尿路上皮癌，伴片状坏死，浸润膀胱壁全层达...</td>\n",
       "      <td>膀胱高级别浸润性尿路上皮癌</td>\n",
       "      <td>L</td>\n",
       "    </tr>\n",
       "    <tr>\n",
       "      <th>15</th>\n",
       "      <td>1522</td>\n",
       "      <td>0.18</td>\n",
       "      <td>Non-MSI-H(0.00)</td>\n",
       "      <td>NaN</td>\n",
       "      <td>30730499</td>\n",
       "      <td>P21029070</td>\n",
       "      <td>【病理报告】\\n（膀胱右侧壁肿物）形态符合高级别浸润性尿路上皮癌，癌组织浸润上皮下纤维结缔组...</td>\n",
       "      <td>高级别浸润性尿路上皮癌</td>\n",
       "      <td>L</td>\n",
       "    </tr>\n",
       "    <tr>\n",
       "      <th>16</th>\n",
       "      <td>2055</td>\n",
       "      <td>2.67</td>\n",
       "      <td>Non-MSI-H(0.81)</td>\n",
       "      <td>NaN</td>\n",
       "      <td>31030877</td>\n",
       "      <td>E23005565</td>\n",
       "      <td>【病理报告】\\n 1.（膀胱颈前列腺部肿瘤）膀胱高级别尿路上皮癌。免疫组化结果待后。\\n2....</td>\n",
       "      <td>膀胱高级别尿路上皮癌</td>\n",
       "      <td>L</td>\n",
       "    </tr>\n",
       "    <tr>\n",
       "      <th>17</th>\n",
       "      <td>1880</td>\n",
       "      <td>18.73</td>\n",
       "      <td>Non-MSI-H(0.27)</td>\n",
       "      <td>NaN</td>\n",
       "      <td>30967432</td>\n",
       "      <td>E23002213</td>\n",
       "      <td>【病理报告】\\n 1.（膀胱+子宫大体）病变初步考虑膀胱高级别浸润性尿路上皮癌，癌组织浸润膀...</td>\n",
       "      <td>膀胱高级别浸润性尿路上皮癌</td>\n",
       "      <td>H</td>\n",
       "    </tr>\n",
       "    <tr>\n",
       "      <th>18</th>\n",
       "      <td>1351</td>\n",
       "      <td>54.10</td>\n",
       "      <td>Non-MSI-H(0.19)</td>\n",
       "      <td>NaN</td>\n",
       "      <td>1438555</td>\n",
       "      <td>P21015273</td>\n",
       "      <td>【病理报告】\\n 1.（膀胱大体）膀胱高级别乳头状尿路上皮癌，经充分取材，可见局灶间质浸润，...</td>\n",
       "      <td>膀胱高级别乳头状尿路上皮癌</td>\n",
       "      <td>H</td>\n",
       "    </tr>\n",
       "    <tr>\n",
       "      <th>19</th>\n",
       "      <td>1565</td>\n",
       "      <td>11.44</td>\n",
       "      <td>Non-MSI-H(0.46)</td>\n",
       "      <td>NaN</td>\n",
       "      <td>30739383</td>\n",
       "      <td>P21034780</td>\n",
       "      <td>【病理报告】\\n 1.（左髂血管淋巴结、左闭孔淋巴结）淋巴结未见癌（0/1）。\\n2.（右髂...</td>\n",
       "      <td>浸润性高级别尿路上皮癌</td>\n",
       "      <td>H</td>\n",
       "    </tr>\n",
       "    <tr>\n",
       "      <th>20</th>\n",
       "      <td>1471</td>\n",
       "      <td>4.69</td>\n",
       "      <td>Non-MSI-H(0.22)</td>\n",
       "      <td>NaN</td>\n",
       "      <td>30714079</td>\n",
       "      <td>P21026543</td>\n",
       "      <td>【病理报告】\\n 1.（膀胱外壁肿物）送检纤维脂肪及平滑肌组织内可见边界尚清的癌组织，伴片状...</td>\n",
       "      <td>（膀胱外壁）低分化腺癌</td>\n",
       "      <td>L</td>\n",
       "    </tr>\n",
       "    <tr>\n",
       "      <th>21</th>\n",
       "      <td>1771</td>\n",
       "      <td>3.55</td>\n",
       "      <td>Non-MSI-H(0.00)</td>\n",
       "      <td>NaN</td>\n",
       "      <td>30822627</td>\n",
       "      <td>P22016193</td>\n",
       "      <td>【病理报告】\\n 1.（膀胱及前列腺大体）膀胱粘膜尿路上皮增生，细胞层次增多，极向稍紊乱，核...</td>\n",
       "      <td>低级别尿路上皮癌改变</td>\n",
       "      <td>L</td>\n",
       "    </tr>\n",
       "    <tr>\n",
       "      <th>22</th>\n",
       "      <td>2003</td>\n",
       "      <td>3.33</td>\n",
       "      <td>Non-MSI-H(0.00)</td>\n",
       "      <td>NaN</td>\n",
       "      <td>31006688</td>\n",
       "      <td>E23004492</td>\n",
       "      <td>【病理报告】\\n 1.（大体）浸润性高级别尿路上皮癌，浸润膀胱壁固有肌层达外膜纤维脂肪组织，...</td>\n",
       "      <td>浸润性高级别尿路上皮癌</td>\n",
       "      <td>L</td>\n",
       "    </tr>\n",
       "    <tr>\n",
       "      <th>23</th>\n",
       "      <td>1986</td>\n",
       "      <td>118.30</td>\n",
       "      <td>Non-MSI-H(0.03)</td>\n",
       "      <td>NaN</td>\n",
       "      <td>31001682</td>\n",
       "      <td>E23004072</td>\n",
       "      <td>【病理报告】\\n 1.（膀胱前列腺）肿瘤呈浸润性生长，累及膀胱壁全层，瘤细胞呈片巢状分布，细...</td>\n",
       "      <td>膀胱浸润性高级别尿路上皮癌</td>\n",
       "      <td>H</td>\n",
       "    </tr>\n",
       "    <tr>\n",
       "      <th>24</th>\n",
       "      <td>1059</td>\n",
       "      <td>12.65</td>\n",
       "      <td>Non-MSI-H(0.36)</td>\n",
       "      <td>NaN</td>\n",
       "      <td>1384557</td>\n",
       "      <td>P20021604</td>\n",
       "      <td>【病理报告】\\n 1.（膀胱）高级别浸润性尿路上皮癌，局灶伴腺样分化，肿瘤浸润至膀胱全层至外...</td>\n",
       "      <td>(膀胱）高级别浸润性尿路上皮癌</td>\n",
       "      <td>H</td>\n",
       "    </tr>\n",
       "    <tr>\n",
       "      <th>25</th>\n",
       "      <td>1356</td>\n",
       "      <td>14.30</td>\n",
       "      <td>Non-MSI-H(0.04)</td>\n",
       "      <td>NaN</td>\n",
       "      <td>30673985</td>\n",
       "      <td>P21015641</td>\n",
       "      <td>【病理报告】\\n 1.（膀胱+前列腺）膀胱高级别浸润性尿路上皮癌，浸润膀胱全层，可见神经束侵...</td>\n",
       "      <td>膀胱高级别浸润性尿路上皮癌</td>\n",
       "      <td>H</td>\n",
       "    </tr>\n",
       "    <tr>\n",
       "      <th>26</th>\n",
       "      <td>1072</td>\n",
       "      <td>0.33</td>\n",
       "      <td>Non-MSI-H(0.00)</td>\n",
       "      <td>NaN</td>\n",
       "      <td>30616483</td>\n",
       "      <td>P20021433</td>\n",
       "      <td>【病理报告】\\n 1-2.（膀胱后壁、膀胱右壁）送检纤维组织内见异型细胞巢片状浸润，细胞核大...</td>\n",
       "      <td>膀胱高级别浸润性乳头状尿路上皮癌</td>\n",
       "      <td>L</td>\n",
       "    </tr>\n",
       "    <tr>\n",
       "      <th>27</th>\n",
       "      <td>1071</td>\n",
       "      <td>6.53</td>\n",
       "      <td>Non-MSI-H(0.06)</td>\n",
       "      <td>NaN</td>\n",
       "      <td>1384592</td>\n",
       "      <td>P20022419</td>\n",
       "      <td>【病理报告】\\n 1.（右髂总淋巴结）淋巴结未见癌（0/8）。&lt;/br&gt;免疫组化：GATA3...</td>\n",
       "      <td>膀胱高级别浸润性尿路上皮癌</td>\n",
       "      <td>L</td>\n",
       "    </tr>\n",
       "    <tr>\n",
       "      <th>28</th>\n",
       "      <td>1865</td>\n",
       "      <td>11.69</td>\n",
       "      <td>Non-MSI-H(0.01)</td>\n",
       "      <td>NaN</td>\n",
       "      <td>30959922</td>\n",
       "      <td>E23001990</td>\n",
       "      <td>【病理报告】\\n 1.（膀胱前列腺）膀胱壁全层可见浸润性癌，伴广泛鳞状分化及片状坏死，其周围...</td>\n",
       "      <td>尿路上皮原位癌，更支持尿路上皮鳞化的基础上恶变为鳞状细胞癌</td>\n",
       "      <td>H</td>\n",
       "    </tr>\n",
       "    <tr>\n",
       "      <th>29</th>\n",
       "      <td>2045</td>\n",
       "      <td>8.77</td>\n",
       "      <td>Non-MSI-H(1.18)</td>\n",
       "      <td>NaN</td>\n",
       "      <td>31028429</td>\n",
       "      <td>E23005116</td>\n",
       "      <td>膀胱浸润性癌</td>\n",
       "      <td>膀胱浸润性癌</td>\n",
       "      <td>L</td>\n",
       "    </tr>\n",
       "    <tr>\n",
       "      <th>30</th>\n",
       "      <td>1465</td>\n",
       "      <td>23.59</td>\n",
       "      <td>Non-MSI-H(0.00)</td>\n",
       "      <td>NaN</td>\n",
       "      <td>30709586</td>\n",
       "      <td>P21026054</td>\n",
       "      <td>【病理报告】\\n 1.（膀胱、前列腺）膀胱高级别浸润性尿路上皮癌，浸润至膀胱壁深肌层，可见神...</td>\n",
       "      <td>（左）肾盂高级别乳头状尿路上皮癌</td>\n",
       "      <td>H</td>\n",
       "    </tr>\n",
       "    <tr>\n",
       "      <th>31</th>\n",
       "      <td>1338</td>\n",
       "      <td>27.65</td>\n",
       "      <td>Non-MSI-H(0.08)</td>\n",
       "      <td>NaN</td>\n",
       "      <td>30673710</td>\n",
       "      <td>P21014350</td>\n",
       "      <td>【病理报告】\\n 1.（右侧髂血管淋巴结）纤维脂肪组织，未见淋巴结，未见癌。\\n2.（左侧髂...</td>\n",
       "      <td>膀胱高级别浸润性癌</td>\n",
       "      <td>H</td>\n",
       "    </tr>\n",
       "    <tr>\n",
       "      <th>32</th>\n",
       "      <td>1508</td>\n",
       "      <td>9.65</td>\n",
       "      <td>Non-MSI-H(0.74)</td>\n",
       "      <td>NaN</td>\n",
       "      <td>30727112</td>\n",
       "      <td>P21030154</td>\n",
       "      <td>【病理报告】\\n 1.（膀胱组织）膀胱浸润性高级别尿路上皮癌，伴鳞状分化，浸润深度约为固有肌...</td>\n",
       "      <td>膀胱浸润性高级别尿路上皮癌</td>\n",
       "      <td>L</td>\n",
       "    </tr>\n",
       "    <tr>\n",
       "      <th>33</th>\n",
       "      <td>1643</td>\n",
       "      <td>25.66</td>\n",
       "      <td>Non-MSI-H(0.47)</td>\n",
       "      <td>NaN</td>\n",
       "      <td>30770961</td>\n",
       "      <td>P22002307</td>\n",
       "      <td>【病理报告】\\n 1.（大体）膀胱高级别浸润性尿路上皮癌，伴片状坏死及周围尿路上皮呈尿路上皮...</td>\n",
       "      <td>膀胱高级别浸润性尿路上皮癌</td>\n",
       "      <td>H</td>\n",
       "    </tr>\n",
       "    <tr>\n",
       "      <th>34</th>\n",
       "      <td>1590</td>\n",
       "      <td>10.53</td>\n",
       "      <td>Non-MSI-H(0.51)</td>\n",
       "      <td>NaN</td>\n",
       "      <td>30747356</td>\n",
       "      <td>P21037214</td>\n",
       "      <td>【病理报告】\\n 1.（精囊）精囊腺组织，未见癌。\\n2.（左闭孔淋巴结）淋巴结未见癌（0/...</td>\n",
       "      <td>膀胱肠型腺癌</td>\n",
       "      <td>H</td>\n",
       "    </tr>\n",
       "    <tr>\n",
       "      <th>35</th>\n",
       "      <td>1078</td>\n",
       "      <td>0.61</td>\n",
       "      <td>Non-MSI-H(0.00)</td>\n",
       "      <td>NaN</td>\n",
       "      <td>30617580</td>\n",
       "      <td>P20022800</td>\n",
       "      <td>【病理报告】\\n 1.（全膀胱标本）膀胱浸润性高级别乳头状尿路上皮癌，浸润至膀胱粘膜下层，局...</td>\n",
       "      <td>膀胱浸润性高级别乳头状尿路上皮癌</td>\n",
       "      <td>L</td>\n",
       "    </tr>\n",
       "    <tr>\n",
       "      <th>36</th>\n",
       "      <td>1067</td>\n",
       "      <td>2.47</td>\n",
       "      <td>Non-MSI-H(0.08)</td>\n",
       "      <td>NaN</td>\n",
       "      <td>1385122</td>\n",
       "      <td>P20021896</td>\n",
       "      <td>【病理报告】\\n 1.（膀胱大体标本）膀胱乳头状尿路上皮癌，部分为低级别，部分为高级别，局部...</td>\n",
       "      <td>膀胱乳头状尿路上皮癌</td>\n",
       "      <td>L</td>\n",
       "    </tr>\n",
       "    <tr>\n",
       "      <th>37</th>\n",
       "      <td>1289</td>\n",
       "      <td>0.05</td>\n",
       "      <td>Non-MSI-H(0.00)</td>\n",
       "      <td>NaN</td>\n",
       "      <td>1429384</td>\n",
       "      <td>P21009448</td>\n",
       "      <td>【病理报告】\\n 1.（肿瘤大体）膀胱高级别尿路上皮乳头状癌，肿瘤主要呈外生性生长，局部可见...</td>\n",
       "      <td>膀胱高级别尿路上皮乳头状癌</td>\n",
       "      <td>L</td>\n",
       "    </tr>\n",
       "    <tr>\n",
       "      <th>38</th>\n",
       "      <td>1825</td>\n",
       "      <td>1.87</td>\n",
       "      <td>Non-MSI-H(0.01)</td>\n",
       "      <td>NaN</td>\n",
       "      <td>30947933</td>\n",
       "      <td>E23001158</td>\n",
       "      <td>【病理报告】\\n 1.（右侧闭孔神经周围淋巴结）淋巴结转移癌（1/5）。\\n2.（右侧盆壁淋...</td>\n",
       "      <td>高级别浸润性尿路上皮癌</td>\n",
       "      <td>L</td>\n",
       "    </tr>\n",
       "    <tr>\n",
       "      <th>39</th>\n",
       "      <td>1137</td>\n",
       "      <td>0.05</td>\n",
       "      <td>Non-MSI-H(0.02)</td>\n",
       "      <td>NaN</td>\n",
       "      <td>1410760</td>\n",
       "      <td>P20031339</td>\n",
       "      <td>【病理报告】\\n 1.（大体（膀胱））高级别尿路上皮癌，浸润膀胱壁全层至浆膜面，伴部分组织坏...</td>\n",
       "      <td>（膀胱））高级别尿路上皮癌</td>\n",
       "      <td>L</td>\n",
       "    </tr>\n",
       "    <tr>\n",
       "      <th>40</th>\n",
       "      <td>1397</td>\n",
       "      <td>0.08</td>\n",
       "      <td>Non-MSI-H(0.00)</td>\n",
       "      <td>NaN</td>\n",
       "      <td>30691081</td>\n",
       "      <td>P21020377</td>\n",
       "      <td>【病理报告】\\n 1.（大体肿瘤）膀胱浸润性高级别尿路上皮癌，浸润膀胱壁全层至周围脂肪组织，...</td>\n",
       "      <td>膀胱浸润性高级别尿路上皮癌</td>\n",
       "      <td>L</td>\n",
       "    </tr>\n",
       "    <tr>\n",
       "      <th>41</th>\n",
       "      <td>1993</td>\n",
       "      <td>2.65</td>\n",
       "      <td>Non-MSI-H(0.13)</td>\n",
       "      <td>NaN</td>\n",
       "      <td>31004134</td>\n",
       "      <td>E23004093</td>\n",
       "      <td>【病理报告】\\n（膀胱肿物）膀胱高级别乳头状尿路上皮癌，未见明确固有层浸润，未见固有肌层。 ...</td>\n",
       "      <td>膀胱高级别乳头状尿路上皮癌</td>\n",
       "      <td>L</td>\n",
       "    </tr>\n",
       "    <tr>\n",
       "      <th>42</th>\n",
       "      <td>1387</td>\n",
       "      <td>20.22</td>\n",
       "      <td>Non-MSI-H(0.10)</td>\n",
       "      <td>NaN</td>\n",
       "      <td>30690345</td>\n",
       "      <td>P21019701</td>\n",
       "      <td>【病理报告】\\n 1.（输尿管（右）输尿管组织，上皮脱落，伴较多炎症细胞浸润，未见癌。\\n2...</td>\n",
       "      <td>高级别尿路上皮乳头状癌伴鳞状分化</td>\n",
       "      <td>H</td>\n",
       "    </tr>\n",
       "    <tr>\n",
       "      <th>43</th>\n",
       "      <td>2094</td>\n",
       "      <td>6.90</td>\n",
       "      <td>Non-MSI-H(0.63)</td>\n",
       "      <td>NaN</td>\n",
       "      <td>31044270</td>\n",
       "      <td>E23006411</td>\n",
       "      <td>膀胱高级别浸润性尿路上皮癌，差分化，癌组织浸润圈层至周围纤维脂肪组织内，未突破浆膜，可见神经...</td>\n",
       "      <td>膀胱高级别浸润性尿路上皮癌</td>\n",
       "      <td>L</td>\n",
       "    </tr>\n",
       "    <tr>\n",
       "      <th>44</th>\n",
       "      <td>2066</td>\n",
       "      <td>3.15</td>\n",
       "      <td>Non-MSI-H(0.66)</td>\n",
       "      <td>NaN</td>\n",
       "      <td>31034067</td>\n",
       "      <td>E23005966</td>\n",
       "      <td>膀胱浸润性高级别尿路上皮癌，微乳头亚型，浸润至固有肌层，多出脉管内癌栓及神经束侵犯，一侧输尿...</td>\n",
       "      <td>膀胱高浸润性高级别尿路上皮癌</td>\n",
       "      <td>L</td>\n",
       "    </tr>\n",
       "    <tr>\n",
       "      <th>45</th>\n",
       "      <td>1134</td>\n",
       "      <td>1.51</td>\n",
       "      <td>Non-MSI-H(0.03)</td>\n",
       "      <td>NaN</td>\n",
       "      <td>1399174</td>\n",
       "      <td>P20031010</td>\n",
       "      <td>【病理报告】\\n 1.（右髂外动脉旁淋巴结）淋巴结未见癌（0/6）。\\n2.（右侧闭孔淋巴结...</td>\n",
       "      <td>膀胱高级别浸润性尿路上皮癌</td>\n",
       "      <td>L</td>\n",
       "    </tr>\n",
       "    <tr>\n",
       "      <th>46</th>\n",
       "      <td>1308</td>\n",
       "      <td>0.43</td>\n",
       "      <td>Non-MSI-H(0.00)</td>\n",
       "      <td>NaN</td>\n",
       "      <td>1431704</td>\n",
       "      <td>P21010999</td>\n",
       "      <td>【病理报告】\\n 1.（膀胱大体）送检膀胱粘膜及平滑肌层、双侧精囊腺和前列腺内均见异型腺体弥...</td>\n",
       "      <td>伴微乳头特征的高级别浸润性尿路上皮癌</td>\n",
       "      <td>L</td>\n",
       "    </tr>\n",
       "    <tr>\n",
       "      <th>47</th>\n",
       "      <td>1883</td>\n",
       "      <td>0.86</td>\n",
       "      <td>Non-MSI-H(0.33)</td>\n",
       "      <td>NaN</td>\n",
       "      <td>30966428</td>\n",
       "      <td>E23002390</td>\n",
       "      <td>【病理报告】\\n 1.（膀胱）膀胱（前壁、后壁、左侧壁）局部黏膜可见高级别浸润性尿路上皮癌，...</td>\n",
       "      <td>高级别浸润性尿路上皮癌</td>\n",
       "      <td>L</td>\n",
       "    </tr>\n",
       "  </tbody>\n",
       "</table>\n",
       "</div>"
      ],
      "text/plain": [
       "    Sample-Pair     TMB  MSIsensor(>3.5)       comment       住院号       病理编号  \\\n",
       "9          1374   85.13     MSI-H(12.41)   不成对，abandon  30685404  P21018637   \n",
       "10         1037   51.38     MSI-H(13.71)   不成对，abandon   1382172  P20019954   \n",
       "11         1325    0.05  Non-MSI-H(0.00)  体突变过少，无突变特征图   1435318  P21012824   \n",
       "12         1334    0.02  Non-MSI-H(0.00)  体突变过少，无突变特征图   1437228  P21014340   \n",
       "13         1886    1.48  Non-MSI-H(0.02)           NaN  30971565  E23002418   \n",
       "14         1438    0.86  Non-MSI-H(0.02)           NaN  30703231  P21023171   \n",
       "15         1522    0.18  Non-MSI-H(0.00)           NaN  30730499  P21029070   \n",
       "16         2055    2.67  Non-MSI-H(0.81)           NaN  31030877  E23005565   \n",
       "17         1880   18.73  Non-MSI-H(0.27)           NaN  30967432  E23002213   \n",
       "18         1351   54.10  Non-MSI-H(0.19)           NaN   1438555  P21015273   \n",
       "19         1565   11.44  Non-MSI-H(0.46)           NaN  30739383  P21034780   \n",
       "20         1471    4.69  Non-MSI-H(0.22)           NaN  30714079  P21026543   \n",
       "21         1771    3.55  Non-MSI-H(0.00)           NaN  30822627  P22016193   \n",
       "22         2003    3.33  Non-MSI-H(0.00)           NaN  31006688  E23004492   \n",
       "23         1986  118.30  Non-MSI-H(0.03)           NaN  31001682  E23004072   \n",
       "24         1059   12.65  Non-MSI-H(0.36)           NaN   1384557  P20021604   \n",
       "25         1356   14.30  Non-MSI-H(0.04)           NaN  30673985  P21015641   \n",
       "26         1072    0.33  Non-MSI-H(0.00)           NaN  30616483  P20021433   \n",
       "27         1071    6.53  Non-MSI-H(0.06)           NaN   1384592  P20022419   \n",
       "28         1865   11.69  Non-MSI-H(0.01)           NaN  30959922  E23001990   \n",
       "29         2045    8.77  Non-MSI-H(1.18)           NaN  31028429  E23005116   \n",
       "30         1465   23.59  Non-MSI-H(0.00)           NaN  30709586  P21026054   \n",
       "31         1338   27.65  Non-MSI-H(0.08)           NaN  30673710  P21014350   \n",
       "32         1508    9.65  Non-MSI-H(0.74)           NaN  30727112  P21030154   \n",
       "33         1643   25.66  Non-MSI-H(0.47)           NaN  30770961  P22002307   \n",
       "34         1590   10.53  Non-MSI-H(0.51)           NaN  30747356  P21037214   \n",
       "35         1078    0.61  Non-MSI-H(0.00)           NaN  30617580  P20022800   \n",
       "36         1067    2.47  Non-MSI-H(0.08)           NaN   1385122  P20021896   \n",
       "37         1289    0.05  Non-MSI-H(0.00)           NaN   1429384  P21009448   \n",
       "38         1825    1.87  Non-MSI-H(0.01)           NaN  30947933  E23001158   \n",
       "39         1137    0.05  Non-MSI-H(0.02)           NaN   1410760  P20031339   \n",
       "40         1397    0.08  Non-MSI-H(0.00)           NaN  30691081  P21020377   \n",
       "41         1993    2.65  Non-MSI-H(0.13)           NaN  31004134  E23004093   \n",
       "42         1387   20.22  Non-MSI-H(0.10)           NaN  30690345  P21019701   \n",
       "43         2094    6.90  Non-MSI-H(0.63)           NaN  31044270  E23006411   \n",
       "44         2066    3.15  Non-MSI-H(0.66)           NaN  31034067  E23005966   \n",
       "45         1134    1.51  Non-MSI-H(0.03)           NaN   1399174  P20031010   \n",
       "46         1308    0.43  Non-MSI-H(0.00)           NaN   1431704  P21010999   \n",
       "47         1883    0.86  Non-MSI-H(0.33)           NaN  30966428  E23002390   \n",
       "\n",
       "                                               病理报告结果  \\\n",
       "9   【病理报告】\\n（膀胱、前列腺大体）送检膀胱黏膜局部披覆上皮细胞乳头状增生，细胞核大深染，可...   \n",
       "10  【病理报告】\\n膀胱高级别浸润性尿路上皮乳头状癌，浸润至粘膜下层，可见脉管内癌栓。 \\n.\\...   \n",
       "11  【病理报告】\\n 1.（下腔静脉旁淋巴结）淋巴结转移癌（5/5），纤维脂肪组织内可见癌细胞浸...   \n",
       "12  【病理报告】\\n 1.膀胱高级别浸润性尿路上皮癌，伴局灶鳞状上皮分化，浸润至膀胱壁全层，侵犯...   \n",
       "13  【病理报告】\\n 1.（右侧髂外血管旁淋巴结）淋巴结未见癌（0/12），局灶可见钙化。\\n2...   \n",
       "14  【病理报告】\\n 1.（膀胱左侧壁）膀胱高级别浸润性尿路上皮癌，伴片状坏死，浸润膀胱壁全层达...   \n",
       "15  【病理报告】\\n（膀胱右侧壁肿物）形态符合高级别浸润性尿路上皮癌，癌组织浸润上皮下纤维结缔组...   \n",
       "16  【病理报告】\\n 1.（膀胱颈前列腺部肿瘤）膀胱高级别尿路上皮癌。免疫组化结果待后。\\n2....   \n",
       "17  【病理报告】\\n 1.（膀胱+子宫大体）病变初步考虑膀胱高级别浸润性尿路上皮癌，癌组织浸润膀...   \n",
       "18  【病理报告】\\n 1.（膀胱大体）膀胱高级别乳头状尿路上皮癌，经充分取材，可见局灶间质浸润，...   \n",
       "19  【病理报告】\\n 1.（左髂血管淋巴结、左闭孔淋巴结）淋巴结未见癌（0/1）。\\n2.（右髂...   \n",
       "20  【病理报告】\\n 1.（膀胱外壁肿物）送检纤维脂肪及平滑肌组织内可见边界尚清的癌组织，伴片状...   \n",
       "21  【病理报告】\\n 1.（膀胱及前列腺大体）膀胱粘膜尿路上皮增生，细胞层次增多，极向稍紊乱，核...   \n",
       "22  【病理报告】\\n 1.（大体）浸润性高级别尿路上皮癌，浸润膀胱壁固有肌层达外膜纤维脂肪组织，...   \n",
       "23  【病理报告】\\n 1.（膀胱前列腺）肿瘤呈浸润性生长，累及膀胱壁全层，瘤细胞呈片巢状分布，细...   \n",
       "24  【病理报告】\\n 1.（膀胱）高级别浸润性尿路上皮癌，局灶伴腺样分化，肿瘤浸润至膀胱全层至外...   \n",
       "25  【病理报告】\\n 1.（膀胱+前列腺）膀胱高级别浸润性尿路上皮癌，浸润膀胱全层，可见神经束侵...   \n",
       "26  【病理报告】\\n 1-2.（膀胱后壁、膀胱右壁）送检纤维组织内见异型细胞巢片状浸润，细胞核大...   \n",
       "27  【病理报告】\\n 1.（右髂总淋巴结）淋巴结未见癌（0/8）。</br>免疫组化：GATA3...   \n",
       "28  【病理报告】\\n 1.（膀胱前列腺）膀胱壁全层可见浸润性癌，伴广泛鳞状分化及片状坏死，其周围...   \n",
       "29                                             膀胱浸润性癌   \n",
       "30  【病理报告】\\n 1.（膀胱、前列腺）膀胱高级别浸润性尿路上皮癌，浸润至膀胱壁深肌层，可见神...   \n",
       "31  【病理报告】\\n 1.（右侧髂血管淋巴结）纤维脂肪组织，未见淋巴结，未见癌。\\n2.（左侧髂...   \n",
       "32  【病理报告】\\n 1.（膀胱组织）膀胱浸润性高级别尿路上皮癌，伴鳞状分化，浸润深度约为固有肌...   \n",
       "33  【病理报告】\\n 1.（大体）膀胱高级别浸润性尿路上皮癌，伴片状坏死及周围尿路上皮呈尿路上皮...   \n",
       "34  【病理报告】\\n 1.（精囊）精囊腺组织，未见癌。\\n2.（左闭孔淋巴结）淋巴结未见癌（0/...   \n",
       "35  【病理报告】\\n 1.（全膀胱标本）膀胱浸润性高级别乳头状尿路上皮癌，浸润至膀胱粘膜下层，局...   \n",
       "36  【病理报告】\\n 1.（膀胱大体标本）膀胱乳头状尿路上皮癌，部分为低级别，部分为高级别，局部...   \n",
       "37  【病理报告】\\n 1.（肿瘤大体）膀胱高级别尿路上皮乳头状癌，肿瘤主要呈外生性生长，局部可见...   \n",
       "38  【病理报告】\\n 1.（右侧闭孔神经周围淋巴结）淋巴结转移癌（1/5）。\\n2.（右侧盆壁淋...   \n",
       "39  【病理报告】\\n 1.（大体（膀胱））高级别尿路上皮癌，浸润膀胱壁全层至浆膜面，伴部分组织坏...   \n",
       "40  【病理报告】\\n 1.（大体肿瘤）膀胱浸润性高级别尿路上皮癌，浸润膀胱壁全层至周围脂肪组织，...   \n",
       "41  【病理报告】\\n（膀胱肿物）膀胱高级别乳头状尿路上皮癌，未见明确固有层浸润，未见固有肌层。 ...   \n",
       "42  【病理报告】\\n 1.（输尿管（右）输尿管组织，上皮脱落，伴较多炎症细胞浸润，未见癌。\\n2...   \n",
       "43  膀胱高级别浸润性尿路上皮癌，差分化，癌组织浸润圈层至周围纤维脂肪组织内，未突破浆膜，可见神经...   \n",
       "44  膀胱浸润性高级别尿路上皮癌，微乳头亚型，浸润至固有肌层，多出脉管内癌栓及神经束侵犯，一侧输尿...   \n",
       "45  【病理报告】\\n 1.（右髂外动脉旁淋巴结）淋巴结未见癌（0/6）。\\n2.（右侧闭孔淋巴结...   \n",
       "46  【病理报告】\\n 1.（膀胱大体）送检膀胱粘膜及平滑肌层、双侧精囊腺和前列腺内均见异型腺体弥...   \n",
       "47  【病理报告】\\n 1.（膀胱）膀胱（前壁、后壁、左侧壁）局部黏膜可见高级别浸润性尿路上皮癌，...   \n",
       "\n",
       "                             病理诊断 TMB_status  \n",
       "9                        浸润性尿路上皮癌          H  \n",
       "10                膀胱尿路上皮癌(高级别浸润性)          H  \n",
       "11                    浸润性高级别尿路上皮癌          L  \n",
       "12                  膀胱高级别浸润性尿路上皮癌          L  \n",
       "13     低级别乳头状尿路上皮癌，部分呈高级别乳头状尿路上皮癌          L  \n",
       "14                  膀胱高级别浸润性尿路上皮癌          L  \n",
       "15                    高级别浸润性尿路上皮癌          L  \n",
       "16                     膀胱高级别尿路上皮癌          L  \n",
       "17                  膀胱高级别浸润性尿路上皮癌          H  \n",
       "18                  膀胱高级别乳头状尿路上皮癌          H  \n",
       "19                    浸润性高级别尿路上皮癌          H  \n",
       "20                    （膀胱外壁）低分化腺癌          L  \n",
       "21                     低级别尿路上皮癌改变          L  \n",
       "22                    浸润性高级别尿路上皮癌          L  \n",
       "23                  膀胱浸润性高级别尿路上皮癌          H  \n",
       "24                (膀胱）高级别浸润性尿路上皮癌          H  \n",
       "25                  膀胱高级别浸润性尿路上皮癌          H  \n",
       "26               膀胱高级别浸润性乳头状尿路上皮癌          L  \n",
       "27                  膀胱高级别浸润性尿路上皮癌          L  \n",
       "28  尿路上皮原位癌，更支持尿路上皮鳞化的基础上恶变为鳞状细胞癌          H  \n",
       "29                         膀胱浸润性癌          L  \n",
       "30               （左）肾盂高级别乳头状尿路上皮癌          H  \n",
       "31                      膀胱高级别浸润性癌          H  \n",
       "32                  膀胱浸润性高级别尿路上皮癌          L  \n",
       "33                  膀胱高级别浸润性尿路上皮癌          H  \n",
       "34                         膀胱肠型腺癌          H  \n",
       "35               膀胱浸润性高级别乳头状尿路上皮癌          L  \n",
       "36                     膀胱乳头状尿路上皮癌          L  \n",
       "37                  膀胱高级别尿路上皮乳头状癌          L  \n",
       "38                    高级别浸润性尿路上皮癌          L  \n",
       "39                  （膀胱））高级别尿路上皮癌          L  \n",
       "40                  膀胱浸润性高级别尿路上皮癌          L  \n",
       "41                  膀胱高级别乳头状尿路上皮癌          L  \n",
       "42               高级别尿路上皮乳头状癌伴鳞状分化          H  \n",
       "43                  膀胱高级别浸润性尿路上皮癌          L  \n",
       "44                 膀胱高浸润性高级别尿路上皮癌          L  \n",
       "45                  膀胱高级别浸润性尿路上皮癌          L  \n",
       "46             伴微乳头特征的高级别浸润性尿路上皮癌          L  \n",
       "47                    高级别浸润性尿路上皮癌          L  "
      ]
     },
     "execution_count": 8,
     "metadata": {},
     "output_type": "execute_result"
    }
   ],
   "source": [
    "remove_abandon"
   ]
  },
  {
   "cell_type": "code",
   "execution_count": 10,
   "id": "681ce572",
   "metadata": {
    "ExecuteTime": {
     "end_time": "2024-05-08T08:10:23.210733Z",
     "start_time": "2024-05-08T08:10:23.150413Z"
    }
   },
   "outputs": [],
   "source": [
    "# remove_abandon['Sample-Pair'].to_csv('remained_sample.csv')\n",
    "remove_abandon[['Sample-Pair','TMB','TMB_status']].to_csv('FAH_slide_label.csv')"
   ]
  },
  {
   "cell_type": "code",
   "execution_count": 34,
   "id": "f305525e",
   "metadata": {
    "ExecuteTime": {
     "end_time": "2024-01-07T01:48:52.682627Z",
     "start_time": "2024-01-07T01:48:52.529369Z"
    }
   },
   "outputs": [
    {
     "data": {
      "text/plain": [
       "array(['E23002125', 'P22013064', 'P21007684', 'P20022104', 'P21031291',\n",
       "       'P20024629', 'P21009321', 'P21014764', 'E23000345', 'P21018637',\n",
       "       'P20019954', 'P21012824', 'P21014340', 'E23002418', 'P21023171',\n",
       "       'P21029070', 'E23005565', 'E23002213', 'P21015273', 'P21034780',\n",
       "       'P21026543', 'P22016193', 'E23004492', 'E23004072', 'P20021604',\n",
       "       'P21015641', 'P20021433', 'P20022419', 'E23001990', 'E23005116',\n",
       "       'P21026054', 'P21014350', 'P21030154', 'P22002307', 'P21037214',\n",
       "       'P20022800', 'P20021896', 'P21009448', 'E23001158', 'P20031339',\n",
       "       'P21020377', 'E23004093', 'P21019701', 'E23006411', 'E23005966',\n",
       "       'P20031010', 'P21010999', 'E23002390'], dtype=object)"
      ]
     },
     "execution_count": 34,
     "metadata": {},
     "output_type": "execute_result"
    }
   ],
   "source": [
    "external_val_df['病理编号'].unique()"
   ]
  },
  {
   "cell_type": "code",
   "execution_count": 38,
   "id": "d166a305",
   "metadata": {
    "ExecuteTime": {
     "end_time": "2024-01-07T01:56:53.290355Z",
     "start_time": "2024-01-07T01:56:53.279802Z"
    }
   },
   "outputs": [
    {
     "data": {
      "text/plain": [
       "{'P20021604', 'P21015273', 'P21018637'}"
      ]
     },
     "execution_count": 38,
     "metadata": {},
     "output_type": "execute_result"
    }
   ],
   "source": [
    "set(remove_abandon['病理编号'].unique()).difference(set(df['patho_id'].unique()))"
   ]
  },
  {
   "cell_type": "markdown",
   "id": "7877806b",
   "metadata": {},
   "source": [
    "- P21015273没切到肿瘤部分\n",
    "- P21018637漏切\n",
    "- P21018637、P20019954应该舍去，P21018637不在slide中，P20019954后续处理应该排除"
   ]
  },
  {
   "cell_type": "code",
   "execution_count": 43,
   "id": "cdbecde9",
   "metadata": {
    "ExecuteTime": {
     "end_time": "2024-01-07T02:00:34.856263Z",
     "start_time": "2024-01-07T02:00:34.846927Z"
    }
   },
   "outputs": [
    {
     "data": {
      "text/plain": [
       "False"
      ]
     },
     "execution_count": 43,
     "metadata": {},
     "output_type": "execute_result"
    }
   ],
   "source": [
    "'E21015273' in list(df['patho_id'].unique())"
   ]
  },
  {
   "cell_type": "code",
   "execution_count": 37,
   "id": "8f958ce1",
   "metadata": {
    "ExecuteTime": {
     "end_time": "2023-12-15T00:42:16.072121Z",
     "start_time": "2023-12-15T00:42:16.062444Z"
    }
   },
   "outputs": [
    {
     "data": {
      "text/plain": [
       "PosixPath('/GPUFS/sysu_jhluo_1/wangyh/data/FAH_BLCA/slides/20X/E23005565_1_2055.h5')"
      ]
     },
     "execution_count": 37,
     "metadata": {},
     "output_type": "execute_result"
    }
   ],
   "source": [
    "scale = '20X'\n",
    "Path(slide_paths_s[0]).parent/scale/Path(slide_paths_s[0]).with_suffix('.h5').name"
   ]
  },
  {
   "cell_type": "markdown",
   "id": "29bdf92c",
   "metadata": {},
   "source": [
    "# raw_patches"
   ]
  },
  {
   "cell_type": "code",
   "execution_count": null,
   "id": "9f8b4543",
   "metadata": {
    "ExecuteTime": {
     "start_time": "2024-01-07T05:55:16.008Z"
    }
   },
   "outputs": [],
   "source": [
    "with h5py.File('raw_patches/size512/10X/E23005565_1_2055.h5') as f:\n",
    "    print(f['image_array'][:].shape)"
   ]
  },
  {
   "cell_type": "code",
   "execution_count": 16,
   "id": "0c929dc4",
   "metadata": {
    "ExecuteTime": {
     "end_time": "2024-01-07T06:23:06.433127Z",
     "start_time": "2024-01-07T06:23:06.416039Z"
    }
   },
   "outputs": [],
   "source": [
    "cases = list(Path('/GPUFS/sysu_jhluo_1/wangyh/data/FAH_BLCA/raw_patches/size512').rglob('*.h5'))"
   ]
  },
  {
   "cell_type": "code",
   "execution_count": 17,
   "id": "16a0b778",
   "metadata": {
    "ExecuteTime": {
     "end_time": "2024-01-07T06:23:07.340093Z",
     "start_time": "2024-01-07T06:23:07.330852Z"
    }
   },
   "outputs": [
    {
     "data": {
      "text/plain": [
       "[PosixPath('/GPUFS/sysu_jhluo_1/wangyh/data/FAH_BLCA/raw_patches/size512/20X/P20022419_8P_1071.h5'),\n",
       " PosixPath('/GPUFS/sysu_jhluo_1/wangyh/data/FAH_BLCA/raw_patches/size512/20X/P21026054_1C_1465.h5'),\n",
       " PosixPath('/GPUFS/sysu_jhluo_1/wangyh/data/FAH_BLCA/raw_patches/size512/20X/P20021433_1_1072.h5'),\n",
       " PosixPath('/GPUFS/sysu_jhluo_1/wangyh/data/FAH_BLCA/raw_patches/size512/10X/P21012824_7P_1325.h5'),\n",
       " PosixPath('/GPUFS/sysu_jhluo_1/wangyh/data/FAH_BLCA/raw_patches/size512/10X/P21026054_1D_1465.h5'),\n",
       " PosixPath('/GPUFS/sysu_jhluo_1/wangyh/data/FAH_BLCA/raw_patches/size512/10X/P20022419_8P_1071.h5'),\n",
       " PosixPath('/GPUFS/sysu_jhluo_1/wangyh/data/FAH_BLCA/raw_patches/size512/10X/P21030154_1P_1508.h5'),\n",
       " PosixPath('/GPUFS/sysu_jhluo_1/wangyh/data/FAH_BLCA/raw_patches/size512/10X/P21026054_1C_1465.h5'),\n",
       " PosixPath('/GPUFS/sysu_jhluo_1/wangyh/data/FAH_BLCA/raw_patches/size512/10X/P20021433_1_1072.h5'),\n",
       " PosixPath('/GPUFS/sysu_jhluo_1/wangyh/data/FAH_BLCA/raw_patches/size512/10X/P20019954_1D_1037.h5'),\n",
       " PosixPath('/GPUFS/sysu_jhluo_1/wangyh/data/FAH_BLCA/raw_patches/size512/10X/E23005966_3AD_2066.h5')]"
      ]
     },
     "execution_count": 17,
     "metadata": {},
     "output_type": "execute_result"
    }
   ],
   "source": [
    "cases"
   ]
  },
  {
   "cell_type": "markdown",
   "id": "c853ef20",
   "metadata": {},
   "source": [
    "# features"
   ]
  },
  {
   "cell_type": "code",
   "execution_count": 19,
   "id": "d85a9145",
   "metadata": {
    "ExecuteTime": {
     "end_time": "2024-01-11T07:29:55.079133Z",
     "start_time": "2024-01-11T07:29:54.588630Z"
    }
   },
   "outputs": [],
   "source": [
    "feature_path = Path('/GPUFS/sysu_jhluo_1/wangyh/data/FAH_BLCA/features/size512/')"
   ]
  },
  {
   "cell_type": "markdown",
   "id": "185c375e",
   "metadata": {},
   "source": [
    "## extracted"
   ]
  },
  {
   "cell_type": "code",
   "execution_count": 43,
   "id": "4951b14d",
   "metadata": {
    "ExecuteTime": {
     "end_time": "2024-01-11T07:58:06.311562Z",
     "start_time": "2024-01-11T07:58:06.288274Z"
    }
   },
   "outputs": [
    {
     "data": {
      "text/plain": [
       "[PosixPath('/GPUFS/sysu_jhluo_1/wangyh/data/FAH_BLCA/features/size512/retccl/20X_features.pkl'),\n",
       " PosixPath('/GPUFS/sysu_jhluo_1/wangyh/data/FAH_BLCA/features/size512/retccl/10X_features.pkl'),\n",
       " PosixPath('/GPUFS/sysu_jhluo_1/wangyh/data/FAH_BLCA/features/size512/pretrained_resnet18/20X_features.pkl'),\n",
       " PosixPath('/GPUFS/sysu_jhluo_1/wangyh/data/FAH_BLCA/features/size512/pretrained_resnet18/10X_features.pkl'),\n",
       " PosixPath('/GPUFS/sysu_jhluo_1/wangyh/data/FAH_BLCA/features/size512/pretrained_resnet50/20X_features.pkl'),\n",
       " PosixPath('/GPUFS/sysu_jhluo_1/wangyh/data/FAH_BLCA/features/size512/pretrained_resnet50/10X_features.pkl'),\n",
       " PosixPath('/GPUFS/sysu_jhluo_1/wangyh/data/FAH_BLCA/features/size512/cTransPath/20X_features.pkl'),\n",
       " PosixPath('/GPUFS/sysu_jhluo_1/wangyh/data/FAH_BLCA/features/size512/cTransPath/10X_features.pkl')]"
      ]
     },
     "execution_count": 43,
     "metadata": {},
     "output_type": "execute_result"
    }
   ],
   "source": [
    "extracted = list(feature_path.rglob('*.pkl'))\n",
    "extracted"
   ]
  },
  {
   "cell_type": "code",
   "execution_count": 46,
   "id": "6fc9e40b",
   "metadata": {
    "ExecuteTime": {
     "end_time": "2024-01-11T08:17:29.292172Z",
     "start_time": "2024-01-11T08:17:29.242993Z"
    }
   },
   "outputs": [
    {
     "name": "stdout",
     "output_type": "stream",
     "text": [
      "37\n"
     ]
    }
   ],
   "source": [
    "with open(extracted[1], 'rb') as f:\n",
    "    features = pickle.load(f)\n",
    "    print(len(features.keys()))"
   ]
  },
  {
   "cell_type": "markdown",
   "id": "85257474",
   "metadata": {},
   "source": [
    "## unextracted"
   ]
  },
  {
   "cell_type": "code",
   "execution_count": 34,
   "id": "89e86502",
   "metadata": {
    "ExecuteTime": {
     "end_time": "2024-01-11T07:34:35.321745Z",
     "start_time": "2024-01-11T07:34:35.303908Z"
    }
   },
   "outputs": [
    {
     "data": {
      "text/plain": [
       "[PosixPath('/GPUFS/sysu_jhluo_1/wangyh/data/FAH_BLCA/features/size512/retccl/20X_not_extracted.npy'),\n",
       " PosixPath('/GPUFS/sysu_jhluo_1/wangyh/data/FAH_BLCA/features/size512/retccl/10X_not_extracted.npy'),\n",
       " PosixPath('/GPUFS/sysu_jhluo_1/wangyh/data/FAH_BLCA/features/size512/pretrained_resnet18/20X_not_extracted.npy'),\n",
       " PosixPath('/GPUFS/sysu_jhluo_1/wangyh/data/FAH_BLCA/features/size512/pretrained_resnet50/20X_not_extracted.npy'),\n",
       " PosixPath('/GPUFS/sysu_jhluo_1/wangyh/data/FAH_BLCA/features/size512/pretrained_resnet50/10X_not_extracted.npy'),\n",
       " PosixPath('/GPUFS/sysu_jhluo_1/wangyh/data/FAH_BLCA/features/size512/cTransPath/20X_not_extracted.npy'),\n",
       " PosixPath('/GPUFS/sysu_jhluo_1/wangyh/data/FAH_BLCA/features/size512/cTransPath/10X_not_extracted.npy')]"
      ]
     },
     "execution_count": 34,
     "metadata": {},
     "output_type": "execute_result"
    }
   ],
   "source": [
    "unextracted = list(feature_path.rglob('*.npy'))\n",
    "unextracted"
   ]
  },
  {
   "cell_type": "code",
   "execution_count": 36,
   "id": "d86baf1b",
   "metadata": {
    "ExecuteTime": {
     "end_time": "2024-01-11T07:35:02.102393Z",
     "start_time": "2024-01-11T07:35:02.091660Z"
    }
   },
   "outputs": [
    {
     "data": {
      "text/plain": [
       "'P21012824_7P_1325'"
      ]
     },
     "execution_count": 36,
     "metadata": {},
     "output_type": "execute_result"
    }
   ],
   "source": [
    "ptRes50_unextracted = np.load(unextracted[0])\n",
    "ptRes50_unextracted[0]"
   ]
  },
  {
   "cell_type": "code",
   "execution_count": null,
   "id": "dee852d1",
   "metadata": {},
   "outputs": [],
   "source": []
  },
  {
   "cell_type": "code",
   "execution_count": 19,
   "id": "70e00566",
   "metadata": {
    "ExecuteTime": {
     "end_time": "2024-01-18T07:20:28.448569Z",
     "start_time": "2024-01-18T07:20:28.288304Z"
    }
   },
   "outputs": [
    {
     "ename": "NameError",
     "evalue": "name '_C' is not defined",
     "output_type": "error",
     "traceback": [
      "\u001b[0;31m---------------------------------------------------------------------------\u001b[0m",
      "\u001b[0;31mNameError\u001b[0m                                 Traceback (most recent call last)",
      "Cell \u001b[0;32mIn[19], line 2\u001b[0m\n\u001b[1;32m      1\u001b[0m \u001b[38;5;28;01mwith\u001b[39;00m \u001b[38;5;28mopen\u001b[39m(\u001b[38;5;124mf\u001b[39m\u001b[38;5;124m'\u001b[39m\u001b[38;5;124m/GPUFS/sysu_jhluo_1/wangyh/data/FAH_BLCA/features/size512/pretrained_resnet18/10X_features.pkl\u001b[39m\u001b[38;5;124m'\u001b[39m,\u001b[38;5;124m'\u001b[39m\u001b[38;5;124mrb\u001b[39m\u001b[38;5;124m'\u001b[39m) \u001b[38;5;28;01mas\u001b[39;00m f:\n\u001b[0;32m----> 2\u001b[0m     \u001b[43mpickle\u001b[49m\u001b[38;5;241;43m.\u001b[39;49m\u001b[43mload\u001b[49m\u001b[43m(\u001b[49m\u001b[43mf\u001b[49m\u001b[43m)\u001b[49m\n",
      "File \u001b[0;32m~/.conda/envs/ds/lib/python3.8/site-packages/torch/__init__.py:231\u001b[0m\n\u001b[1;32m    216\u001b[0m         \u001b[38;5;28;01mraise\u001b[39;00m \u001b[38;5;167;01mImportError\u001b[39;00m(textwrap\u001b[38;5;241m.\u001b[39mdedent(\u001b[38;5;124m'''\u001b[39m\n\u001b[1;32m    217\u001b[0m \u001b[38;5;124m            Failed to load PyTorch C extensions:\u001b[39m\n\u001b[1;32m    218\u001b[0m \u001b[38;5;124m                It appears that PyTorch has loaded the `torch/_C` folder\u001b[39m\n\u001b[0;32m   (...)\u001b[0m\n\u001b[1;32m    226\u001b[0m \u001b[38;5;124m                or by running Python from a different directory.\u001b[39m\n\u001b[1;32m    227\u001b[0m \u001b[38;5;124m            \u001b[39m\u001b[38;5;124m'''\u001b[39m)\u001b[38;5;241m.\u001b[39mstrip()) \u001b[38;5;28;01mfrom\u001b[39;00m \u001b[38;5;28;01mNone\u001b[39;00m\n\u001b[1;32m    228\u001b[0m     \u001b[38;5;28;01mraise\u001b[39;00m  \u001b[38;5;66;03m# If __file__ is not None the cause is unknown, so just re-raise.\u001b[39;00m\n\u001b[0;32m--> 231\u001b[0m __all__ \u001b[38;5;241m+\u001b[39m\u001b[38;5;241m=\u001b[39m [name \u001b[38;5;28;01mfor\u001b[39;00m name \u001b[38;5;129;01min\u001b[39;00m \u001b[38;5;28mdir\u001b[39m(\u001b[43m_C\u001b[49m)\n\u001b[1;32m    232\u001b[0m             \u001b[38;5;28;01mif\u001b[39;00m name[\u001b[38;5;241m0\u001b[39m] \u001b[38;5;241m!=\u001b[39m \u001b[38;5;124m'\u001b[39m\u001b[38;5;124m_\u001b[39m\u001b[38;5;124m'\u001b[39m \u001b[38;5;129;01mand\u001b[39;00m\n\u001b[1;32m    233\u001b[0m             \u001b[38;5;129;01mnot\u001b[39;00m name\u001b[38;5;241m.\u001b[39mendswith(\u001b[38;5;124m'\u001b[39m\u001b[38;5;124mBase\u001b[39m\u001b[38;5;124m'\u001b[39m)]\n\u001b[1;32m    235\u001b[0m \u001b[38;5;28;01mif\u001b[39;00m \u001b[38;5;129;01mnot\u001b[39;00m TYPE_CHECKING:\n\u001b[1;32m    236\u001b[0m     \u001b[38;5;66;03m# issue 38137 and python issue 43367. Submodules of a C extension are\u001b[39;00m\n\u001b[1;32m    237\u001b[0m     \u001b[38;5;66;03m# non-standard, and attributes of those submodules cannot be pickled since\u001b[39;00m\n\u001b[1;32m    238\u001b[0m     \u001b[38;5;66;03m# pickle expect to be able to import them as \"from _C.sub import attr\"\u001b[39;00m\n\u001b[1;32m    239\u001b[0m     \u001b[38;5;66;03m# which fails with \"_C is not a package\u001b[39;00m\n\u001b[1;32m    240\u001b[0m     \u001b[38;5;28;01mfor\u001b[39;00m attr \u001b[38;5;129;01min\u001b[39;00m \u001b[38;5;28mdir\u001b[39m(_C):\n",
      "\u001b[0;31mNameError\u001b[0m: name '_C' is not defined"
     ]
    }
   ],
   "source": [
    "with open(f'/GPUFS/sysu_jhluo_1/wangyh/data/FAH_BLCA/features/size512/pretrained_resnet18/10X_features.pkl','rb') as f:\n",
    "    pickle.load(f)"
   ]
  },
  {
   "cell_type": "code",
   "execution_count": 14,
   "id": "e28fd742",
   "metadata": {
    "ExecuteTime": {
     "end_time": "2024-01-18T07:18:40.372275Z",
     "start_time": "2024-01-18T07:18:40.341705Z"
    }
   },
   "outputs": [
    {
     "ename": "NameError",
     "evalue": "name 'features' is not defined",
     "output_type": "error",
     "traceback": [
      "\u001b[0;31m---------------------------------------------------------------------------\u001b[0m",
      "\u001b[0;31mNameError\u001b[0m                                 Traceback (most recent call last)",
      "Cell \u001b[0;32mIn[14], line 1\u001b[0m\n\u001b[0;32m----> 1\u001b[0m \u001b[43mfeatures\u001b[49m\n",
      "\u001b[0;31mNameError\u001b[0m: name 'features' is not defined"
     ]
    }
   ],
   "source": [
    "features"
   ]
  },
  {
   "cell_type": "code",
   "execution_count": null,
   "id": "41e90a03",
   "metadata": {},
   "outputs": [],
   "source": []
  }
 ],
 "metadata": {
  "kernelspec": {
   "display_name": "Python [conda env:.conda-ds]",
   "language": "python",
   "name": "conda-env-.conda-ds-py"
  },
  "language_info": {
   "codemirror_mode": {
    "name": "ipython",
    "version": 3
   },
   "file_extension": ".py",
   "mimetype": "text/x-python",
   "name": "python",
   "nbconvert_exporter": "python",
   "pygments_lexer": "ipython3",
   "version": "3.8.16"
  },
  "toc": {
   "base_numbering": 1,
   "nav_menu": {},
   "number_sections": true,
   "sideBar": true,
   "skip_h1_title": false,
   "title_cell": "Table of Contents",
   "title_sidebar": "Contents",
   "toc_cell": false,
   "toc_position": {},
   "toc_section_display": true,
   "toc_window_display": false
  }
 },
 "nbformat": 4,
 "nbformat_minor": 5
}
